{
 "cells": [
  {
   "cell_type": "markdown",
   "metadata": {},
   "source": [
    "### Домашнее задание 01"
   ]
  },
  {
   "cell_type": "markdown",
   "metadata": {},
   "source": [
    "Тема “Предобработка текста с помощью Python”\n",
    "\n",
    "Осуществим предобработку данных с Твиттера, чтобы очищенные данные в дальнейшем использовать для задачи классификации. Данный датасет содержит негативные (label = 1) и нейтральные (label = 0) высказывания. Для работы объединим train_df и test_df.\n",
    "Задания:\n",
    "1.\tУдалим @user из всех твитов с помощью паттерна \"@[\\w]*\". Для этого создадим функцию:\n",
    "●\tдля того, чтобы найти все вхождения паттерна в тексте, необходимо использовать re.findall(pattern, input_txt)\n",
    "●\tдля для замены @user на пробел, необходимо использовать re.sub()\n",
    "2.\tИзменим регистр твитов на нижний с помощью .lower().\n",
    "3.\tЗаменим сокращения с апострофами (пример: ain't, can't) на пробел, используя apostrophe_dict. Для этого необходимо сделать функцию: для каждого слова в тексте проверить (for word in text.split()), если слово есть в словаре apostrophe_dict в качестве ключа (сокращенного слова), то заменить ключ на значение (полную версию слова).\n",
    "4.\tЗаменим сокращения на их полные формы, используя short_word_dict. Для этого воспользуемся функцией, используемой в предыдущем пункте.\n",
    "5.\tЗаменим эмотиконы (пример: \":)\" = \"happy\") на пробелы, используя emoticon_dict. Для этого воспользуемся функцией, используемой в предыдущем пункте.\n",
    "6.\tЗаменим пунктуацию на пробелы, используя re.sub() и паттерн r'[^\\w\\s]'.\n",
    "7.\tЗаменим спец. символы на пробелы, используя re.sub() и паттерн r'[^a-zA-Z0-9]'.\n",
    "8.\tЗаменим числа на пробелы, используя re.sub() и паттерн r'[^a-zA-Z]'.\n",
    "9.\tУдалим из текста слова длиной в 1 символ, используя ' '.join([w for w in x.split() if len(w)>1]).\n",
    "10.\tПоделим твиты на токены с помощью nltk.tokenize.word_tokenize, создав новый столбец 'tweet_token'.\n",
    "11.\tУдалим стоп-слова из токенов, используя nltk.corpus.stopwords. Создадим столбец 'tweet_token_filtered' без стоп-слов.\n",
    "12.\tПрименим стемминг к токенам с помощью nltk.stem.PorterStemmer. Создадим столбец 'tweet_stemmed' после применения стемминга.\n",
    "13.\tПрименим лемматизацию к токенам с помощью nltk.stem.wordnet.WordNetLemmatizer. Создадим столбец 'tweet_lemmatized' после применения лемматизации.\n",
    "14.\tСохраним результат предобработки в pickle-файл.\n"
   ]
  },
  {
   "cell_type": "code",
   "execution_count": 1,
   "metadata": {},
   "outputs": [],
   "source": [
    "import pandas as pd\n",
    "pd.set_option('display.max_columns', None)  \n",
    "pd.set_option('display.expand_frame_repr', False)\n",
    "pd.set_option('max_colwidth', 800)"
   ]
  },
  {
   "cell_type": "code",
   "execution_count": 2,
   "metadata": {},
   "outputs": [],
   "source": [
    "import re"
   ]
  },
  {
   "cell_type": "markdown",
   "metadata": {},
   "source": [
    "Загрузим данные"
   ]
  },
  {
   "cell_type": "code",
   "execution_count": 3,
   "metadata": {},
   "outputs": [
    {
     "data": {
      "text/html": [
       "<div>\n",
       "<style scoped>\n",
       "    .dataframe tbody tr th:only-of-type {\n",
       "        vertical-align: middle;\n",
       "    }\n",
       "\n",
       "    .dataframe tbody tr th {\n",
       "        vertical-align: top;\n",
       "    }\n",
       "\n",
       "    .dataframe thead th {\n",
       "        text-align: right;\n",
       "    }\n",
       "</style>\n",
       "<table border=\"1\" class=\"dataframe\">\n",
       "  <thead>\n",
       "    <tr style=\"text-align: right;\">\n",
       "      <th></th>\n",
       "      <th>id</th>\n",
       "      <th>label</th>\n",
       "      <th>tweet</th>\n",
       "    </tr>\n",
       "  </thead>\n",
       "  <tbody>\n",
       "    <tr>\n",
       "      <th>0</th>\n",
       "      <td>1</td>\n",
       "      <td>0</td>\n",
       "      <td>@user when a father is dysfunctional and is so selfish he drags his kids into his dysfunction.   #run</td>\n",
       "    </tr>\n",
       "    <tr>\n",
       "      <th>1</th>\n",
       "      <td>2</td>\n",
       "      <td>0</td>\n",
       "      <td>@user @user thanks for #lyft credit i can't use cause they don't offer wheelchair vans in pdx.    #disapointed #getthanked</td>\n",
       "    </tr>\n",
       "    <tr>\n",
       "      <th>2</th>\n",
       "      <td>3</td>\n",
       "      <td>0</td>\n",
       "      <td>bihday your majesty</td>\n",
       "    </tr>\n",
       "    <tr>\n",
       "      <th>3</th>\n",
       "      <td>4</td>\n",
       "      <td>0</td>\n",
       "      <td>#model   i love u take with u all the time in urð±!!! ðððð",
       "ð¦ð¦ð¦</td>\n",
       "    </tr>\n",
       "    <tr>\n",
       "      <th>4</th>\n",
       "      <td>5</td>\n",
       "      <td>0</td>\n",
       "      <td>factsguide: society now    #motivation</td>\n",
       "    </tr>\n",
       "  </tbody>\n",
       "</table>\n",
       "</div>"
      ],
      "text/plain": [
       "   id  label                                                                                                                       tweet\n",
       "0   1      0                       @user when a father is dysfunctional and is so selfish he drags his kids into his dysfunction.   #run\n",
       "1   2      0  @user @user thanks for #lyft credit i can't use cause they don't offer wheelchair vans in pdx.    #disapointed #getthanked\n",
       "2   3      0                                                                                                         bihday your majesty\n",
       "3   4      0                                      #model   i love u take with u all the time in urð±!!! ðððð\n",
       "ð¦ð¦ð¦  \n",
       "4   5      0                                                                                      factsguide: society now    #motivation"
      ]
     },
     "execution_count": 3,
     "metadata": {},
     "output_type": "execute_result"
    }
   ],
   "source": [
    "data = pd.read_csv('train_tweets.csv')\n",
    "data.head(5)"
   ]
  },
  {
   "cell_type": "code",
   "execution_count": 4,
   "metadata": {},
   "outputs": [
    {
     "data": {
      "text/html": [
       "<div>\n",
       "<style scoped>\n",
       "    .dataframe tbody tr th:only-of-type {\n",
       "        vertical-align: middle;\n",
       "    }\n",
       "\n",
       "    .dataframe tbody tr th {\n",
       "        vertical-align: top;\n",
       "    }\n",
       "\n",
       "    .dataframe thead th {\n",
       "        text-align: right;\n",
       "    }\n",
       "</style>\n",
       "<table border=\"1\" class=\"dataframe\">\n",
       "  <thead>\n",
       "    <tr style=\"text-align: right;\">\n",
       "      <th></th>\n",
       "      <th>id</th>\n",
       "      <th>label</th>\n",
       "      <th>tweet</th>\n",
       "    </tr>\n",
       "  </thead>\n",
       "  <tbody>\n",
       "    <tr>\n",
       "      <th>1014</th>\n",
       "      <td>1015</td>\n",
       "      <td>0</td>\n",
       "      <td>i tend to expose my moods through aists name or song titles   #music</td>\n",
       "    </tr>\n",
       "    <tr>\n",
       "      <th>29624</th>\n",
       "      <td>29625</td>\n",
       "      <td>0</td>\n",
       "      <td>five minutes to google translate and print a sign would fix all this nonsense. #paxex</td>\n",
       "    </tr>\n",
       "    <tr>\n",
       "      <th>21625</th>\n",
       "      <td>21626</td>\n",
       "      <td>0</td>\n",
       "      <td>what is a #detoxdiet?  #altwaystoheal! #healthy  !</td>\n",
       "    </tr>\n",
       "    <tr>\n",
       "      <th>26907</th>\n",
       "      <td>26908</td>\n",
       "      <td>0</td>\n",
       "      <td>\"fallin in love\"?:d itÂ´s pay time (:  #quintino #love #espos   #rzkgaming #competitive</td>\n",
       "    </tr>\n",
       "    <tr>\n",
       "      <th>22342</th>\n",
       "      <td>22343</td>\n",
       "      <td>1</td>\n",
       "      <td>nothing would be more dangerous than to give #putinschoice the impression we accept  #stopracism #boycott?â¦</td>\n",
       "    </tr>\n",
       "    <tr>\n",
       "      <th>29226</th>\n",
       "      <td>29227</td>\n",
       "      <td>0</td>\n",
       "      <td>@user @user june 22 is a good friend's bihday celebration out of town so i'm unlikely to make it :(</td>\n",
       "    </tr>\n",
       "    <tr>\n",
       "      <th>31751</th>\n",
       "      <td>31752</td>\n",
       "      <td>0</td>\n",
       "      <td>#childhood   bull up: you will dominate your bull and you will direct it whatever you want it to do. when yo</td>\n",
       "    </tr>\n",
       "    <tr>\n",
       "      <th>20445</th>\n",
       "      <td>20446</td>\n",
       "      <td>0</td>\n",
       "      <td>now playing  :  ackroyd poppy - \" aliquot\" on     music song</td>\n",
       "    </tr>\n",
       "    <tr>\n",
       "      <th>23854</th>\n",
       "      <td>23855</td>\n",
       "      <td>0</td>\n",
       "      <td>@user   ð with @user #ngitingtagumpay</td>\n",
       "    </tr>\n",
       "    <tr>\n",
       "      <th>23003</th>\n",
       "      <td>23004</td>\n",
       "      <td>0</td>\n",
       "      <td>@user @user  i bet your as ugly on the outside as you are on the inside. why tweet this shit what is it proving.</td>\n",
       "    </tr>\n",
       "    <tr>\n",
       "      <th>5540</th>\n",
       "      <td>5541</td>\n",
       "      <td>0</td>\n",
       "      <td>#repost @user with repostapp ã»ã»ã» #prayfororlando ð</td>\n",
       "    </tr>\n",
       "    <tr>\n",
       "      <th>31571</th>\n",
       "      <td>31572</td>\n",
       "      <td>0</td>\n",
       "      <td>@user to the united states of america, from the rest of the world: i think you've proven you don't have the right to own fireâ¦</td>\n",
       "    </tr>\n",
       "    <tr>\n",
       "      <th>18293</th>\n",
       "      <td>18294</td>\n",
       "      <td>0</td>\n",
       "      <td>@user money talks unfounately.  it's the world we live in</td>\n",
       "    </tr>\n",
       "    <tr>\n",
       "      <th>2316</th>\n",
       "      <td>2317</td>\n",
       "      <td>0</td>\n",
       "      <td>@user my wedding dress! + wedding stuff  via @user #momlife #family #wedding   #mommylife #faâ¦</td>\n",
       "    </tr>\n",
       "    <tr>\n",
       "      <th>9968</th>\n",
       "      <td>9969</td>\n",
       "      <td>0</td>\n",
       "      <td>am so in hell right now  #</td>\n",
       "    </tr>\n",
       "  </tbody>\n",
       "</table>\n",
       "</div>"
      ],
      "text/plain": [
       "          id  label                                                                                                                              tweet\n",
       "1014    1015      0                                                               i tend to expose my moods through aists name or song titles   #music\n",
       "29624  29625      0                                            five minutes to google translate and print a sign would fix all this nonsense. #paxex  \n",
       "21625  21626      0                                                                                what is a #detoxdiet?  #altwaystoheal! #healthy  ! \n",
       "26907  26908      0                                            \"fallin in love\"?:d itÂ´s pay time (:  #quintino #love #espos   #rzkgaming #competitive\n",
       "22342  22343      1                     nothing would be more dangerous than to give #putinschoice the impression we accept  #stopracism #boycott?â¦ \n",
       "29226  29227      0                              @user @user june 22 is a good friend's bihday celebration out of town so i'm unlikely to make it :(  \n",
       "31751  31752      0                      #childhood   bull up: you will dominate your bull and you will direct it whatever you want it to do. when yo \n",
       "20445  20446      0                                                                      now playing  :  ackroyd poppy - \" aliquot\" on     music song \n",
       "23854  23855      0                                                                                          @user   ð with @user #ngitingtagumpay \n",
       "23003  23004      0                  @user @user  i bet your as ugly on the outside as you are on the inside. why tweet this shit what is it proving. \n",
       "5540    5541      0                                                                     #repost @user with repostapp ã»ã»ã» #prayfororlando ð   \n",
       "31571  31572      0   @user to the united states of america, from the rest of the world: i think you've proven you don't have the right to own fireâ¦\n",
       "18293  18294      0                                                                      @user money talks unfounately.  it's the world we live in    \n",
       "2316    2317      0                                   @user my wedding dress! + wedding stuff  via @user #momlife #family #wedding   #mommylife #faâ¦\n",
       "9968    9969      0                                                                                                         am so in hell right now  #"
      ]
     },
     "execution_count": 4,
     "metadata": {},
     "output_type": "execute_result"
    }
   ],
   "source": [
    "data.sample(15)"
   ]
  },
  {
   "cell_type": "code",
   "execution_count": 5,
   "metadata": {},
   "outputs": [],
   "source": [
    "# Проверим работу фильтров и подготовим функции"
   ]
  },
  {
   "cell_type": "code",
   "execution_count": 6,
   "metadata": {},
   "outputs": [],
   "source": [
    "y = \"@user @user thanks for #lyft Credit I can't 501 df2 p2p use cause they don't offer wheelchair vans in pdx. am pm :) don't :( don't   #disapointed #getthanked @pups's\""
   ]
  },
  {
   "cell_type": "code",
   "execution_count": 7,
   "metadata": {
    "scrolled": true
   },
   "outputs": [
    {
     "data": {
      "text/plain": [
       "\"@user @user thanks for #lyft Credit I can't 501 df2 p2p use cause they don't offer wheelchair vans in pdx. am pm :) don't :( don't   #disapointed #getthanked @pups's\""
      ]
     },
     "execution_count": 7,
     "metadata": {},
     "output_type": "execute_result"
    }
   ],
   "source": [
    "y"
   ]
  },
  {
   "cell_type": "code",
   "execution_count": 8,
   "metadata": {},
   "outputs": [
    {
     "data": {
      "text/plain": [
       "['@user', '@user', '@pups']"
      ]
     },
     "execution_count": 8,
     "metadata": {},
     "output_type": "execute_result"
    }
   ],
   "source": [
    "re.findall(r'@[\\w]*',y)"
   ]
  },
  {
   "cell_type": "code",
   "execution_count": 9,
   "metadata": {},
   "outputs": [],
   "source": [
    "def reduc(text):\n",
    "    return set(re.findall(r\"\\w+\\'[a-r,t-z]+\",text))"
   ]
  },
  {
   "cell_type": "code",
   "execution_count": 10,
   "metadata": {},
   "outputs": [
    {
     "data": {
      "text/plain": [
       "{\"can't\", \"don't\"}"
      ]
     },
     "execution_count": 10,
     "metadata": {},
     "output_type": "execute_result"
    }
   ],
   "source": [
    "reduc(data['tweet'][1])"
   ]
  },
  {
   "cell_type": "code",
   "execution_count": 11,
   "metadata": {
    "scrolled": true
   },
   "outputs": [
    {
     "data": {
      "text/plain": [
       "{\"23'rd\",\n",
       " \"50'x\",\n",
       " \"ain't\",\n",
       " \"aren't\",\n",
       " \"b'coz\",\n",
       " \"b'day\",\n",
       " \"beer'in\",\n",
       " \"c'e\",\n",
       " \"c'mon\",\n",
       " \"c'onference\",\n",
       " \"can't\",\n",
       " \"can'tmi\",\n",
       " \"can'ttru\",\n",
       " \"can'twait\",\n",
       " \"com'on\",\n",
       " \"con't\",\n",
       " \"cont'd\",\n",
       " \"could've\",\n",
       " \"couldn't\",\n",
       " \"d'ae\",\n",
       " \"d'banj\",\n",
       " \"d'etre\",\n",
       " \"d'u\",\n",
       " \"des'tee\",\n",
       " \"did't\",\n",
       " \"didn't\",\n",
       " \"doesn't\",\n",
       " \"doesn't,\",\n",
       " \"don't\",\n",
       " \"don't,\",\n",
       " \"don'tgetoutmuch\",\n",
       " \"don'tknowwhattodo\",\n",
       " \"dvr'd\",\n",
       " \"ev'rybody\",\n",
       " \"f'd\",\n",
       " \"f'ing\",\n",
       " \"f'n\",\n",
       " \"fathers'day\",\n",
       " \"fuck'em\",\n",
       " \"g'boro\",\n",
       " \"g'm\",\n",
       " \"g'morning\",\n",
       " \"gov't\",\n",
       " \"gov't,\",\n",
       " \"hadn't\",\n",
       " \"hasn't\",\n",
       " \"haven't\",\n",
       " \"he'd\",\n",
       " \"he'll\",\n",
       " \"i'd\",\n",
       " \"i'll\",\n",
       " \"i'm\",\n",
       " \"i'ma\",\n",
       " \"i'manadultnow\",\n",
       " \"i'mbroke\",\n",
       " \"i'mdeaf\",\n",
       " \"i'mlovingit\",\n",
       " \"i've\",\n",
       " \"ican'teven\",\n",
       " \"iknowthingsuthinkidon'tknow\",\n",
       " \"imm't\",\n",
       " \"in't,\",\n",
       " \"int'l\",\n",
       " \"isn't\",\n",
       " \"it'd\",\n",
       " \"it'll\",\n",
       " \"l'a\",\n",
       " \"l'm\",\n",
       " \"l'pool,\",\n",
       " \"livin'thing\",\n",
       " \"lyin'crookedhillary\",\n",
       " \"m'am\",\n",
       " \"m'y\",\n",
       " \"ma'am\",\n",
       " \"ma'ana\",\n",
       " \"ma'likrichmond\",\n",
       " \"ma'm\",\n",
       " \"make'em\",\n",
       " \"might've\",\n",
       " \"mo'nique\",\n",
       " \"n'at\",\n",
       " \"ne'er\",\n",
       " \"need'em\",\n",
       " \"o'clock\",\n",
       " \"o'halloran\",\n",
       " \"o'holy\",\n",
       " \"o'toole\",\n",
       " \"obama'more\",\n",
       " \"ourenine'a\",\n",
       " \"out',\",\n",
       " \"pushin'em\",\n",
       " \"s'cute,\",\n",
       " \"s'more\",\n",
       " \"sant'agne\",\n",
       " \"she'd\",\n",
       " \"she'll\",\n",
       " \"shouldn't\",\n",
       " \"shuckin'andjivin\",\n",
       " \"shy'boi\",\n",
       " \"that'd\",\n",
       " \"that'll\",\n",
       " \"there'll\",\n",
       " \"there're\",\n",
       " \"they'd\",\n",
       " \"they'll\",\n",
       " \"they're\",\n",
       " \"they're,\",\n",
       " \"they've\",\n",
       " \"toothbrush',\",\n",
       " \"u'll\",\n",
       " \"u're\",\n",
       " \"u've\",\n",
       " \"udtapunjab',\",\n",
       " \"w'd\",\n",
       " \"w'end\",\n",
       " \"wasn't\",\n",
       " \"we'd\",\n",
       " \"we'll\",\n",
       " \"we're\",\n",
       " \"we're,\",\n",
       " \"we've\",\n",
       " \"were'nt\",\n",
       " \"weren't\",\n",
       " \"who'd\",\n",
       " \"who'll\",\n",
       " \"won't\",\n",
       " \"would've\",\n",
       " \"wouldn't\",\n",
       " \"x'ma\",\n",
       " \"y'all\",\n",
       " \"y'all,\",\n",
       " \"ya'll\",\n",
       " \"yo're\",\n",
       " \"you'd\",\n",
       " \"you'll\",\n",
       " \"you're\",\n",
       " \"you'rewelcome\",\n",
       " \"you've\"}"
      ]
     },
     "execution_count": 11,
     "metadata": {},
     "output_type": "execute_result"
    }
   ],
   "source": [
    "dr = set()\n",
    "for i in range(len(data)):\n",
    "    dr = dr.union(reduc(data['tweet'][i]))\n",
    "dr"
   ]
  },
  {
   "cell_type": "code",
   "execution_count": 12,
   "metadata": {},
   "outputs": [],
   "source": [
    "# Подготовим словари (к стати вопрос: а где можно взять готовые или в задачу входит и подготовка таких словарей)"
   ]
  },
  {
   "cell_type": "code",
   "execution_count": 13,
   "metadata": {},
   "outputs": [],
   "source": [
    "apostrophe_dict = {\"ain't\": 'are not',\n",
    " \"aren't\": 'are not',\n",
    " \"can't\": 'can not',\n",
    " \"couldn't\": 'could not',\n",
    " \"didn't\": 'did not',\n",
    " \"don't\": 'do not',\n",
    " \"doesn't\": 'does not',\n",
    " \"hadn't\": 'had not',\n",
    " \"hasn't:\": 'has not',\n",
    " \"haven't\": 'have not',\n",
    " \"isn't\": 'is not',\n",
    " \"shouldn't\": 'should not',\n",
    " \"wasn't\": 'was not',\n",
    " \"weren't\": 'were not',\n",
    " \"won't\": 'will not',\n",
    " \"wouldn't\": 'would not',\n",
    " \"we're\": 'we are'}"
   ]
  },
  {
   "cell_type": "code",
   "execution_count": 14,
   "metadata": {},
   "outputs": [],
   "source": [
    "short_word_dict = {'imho': 'in my humble opinion',\n",
    "                  'am':'ante meridiem',\n",
    "                  'pm':'post meridiem'}"
   ]
  },
  {
   "cell_type": "code",
   "execution_count": 15,
   "metadata": {},
   "outputs": [],
   "source": [
    "emoticon_dict = {':)': 'happy',\n",
    "                ':(': 'sad'}"
   ]
  },
  {
   "cell_type": "code",
   "execution_count": 16,
   "metadata": {},
   "outputs": [
    {
     "data": {
      "text/plain": [
       "\"@user @user thanks for #lyft credit i can't 501 df2 p2p use cause they don't offer wheelchair vans in pdx. am pm :) don't :( don't   #disapointed #getthanked @pups's\""
      ]
     },
     "execution_count": 16,
     "metadata": {},
     "output_type": "execute_result"
    }
   ],
   "source": [
    "y = y.lower()\n",
    "y"
   ]
  },
  {
   "cell_type": "code",
   "execution_count": 17,
   "metadata": {},
   "outputs": [
    {
     "data": {
      "text/plain": [
       "\"@user @user thanks for #lyft credit i can not 501 df2 p2p use cause they do not offer wheelchair vans in pdx. am pm :) do not :( do not #disapointed #getthanked @pups's\""
      ]
     },
     "execution_count": 17,
     "metadata": {},
     "output_type": "execute_result"
    }
   ],
   "source": [
    "' '.join([apostrophe_dict[i] if i in apostrophe_dict else i for i in y.split()])"
   ]
  },
  {
   "cell_type": "code",
   "execution_count": 18,
   "metadata": {},
   "outputs": [],
   "source": [
    "def replacet(text):\n",
    "    y = text.split()\n",
    "    y = [apostrophe_dict[i] if i in apostrophe_dict else i for i in y]\n",
    "    y = [short_word_dict[i] if i in short_word_dict else i for i in y]\n",
    "    y = [' ' if i in emoticon_dict else i for i in y]    \n",
    "    return ' '.join(y)"
   ]
  },
  {
   "cell_type": "code",
   "execution_count": 19,
   "metadata": {},
   "outputs": [
    {
     "data": {
      "text/plain": [
       "\"    thanks for #lyft credit i can not 501 df2 p2p use cause they do not offer wheelchair vans in pdx. ante meridiem post meridiem   do not   do not #disapointed #getthanked  's\""
      ]
     },
     "execution_count": 19,
     "metadata": {},
     "output_type": "execute_result"
    }
   ],
   "source": [
    "z = replacet(y)\n",
    "z = re.sub(r'@[\\w]*',' ',z)\n",
    "z"
   ]
  },
  {
   "cell_type": "code",
   "execution_count": 20,
   "metadata": {},
   "outputs": [
    {
     "data": {
      "text/plain": [
       "'    thanks for  lyft credit i can not 501 df2 p2p use cause they do not offer wheelchair vans in pdx  ante meridiem post meridiem   do not   do not  disapointed  getthanked   s'"
      ]
     },
     "execution_count": 20,
     "metadata": {},
     "output_type": "execute_result"
    }
   ],
   "source": [
    "re.sub(r'[^\\w\\s]',' ',z)"
   ]
  },
  {
   "cell_type": "code",
   "execution_count": 21,
   "metadata": {},
   "outputs": [
    {
     "data": {
      "text/plain": [
       "'    thanks for  lyft credit i can not 501 df2 p2p use cause they do not offer wheelchair vans in pdx  ante meridiem post meridiem   do not   do not  disapointed  getthanked   s'"
      ]
     },
     "execution_count": 21,
     "metadata": {},
     "output_type": "execute_result"
    }
   ],
   "source": [
    "re.sub(r'[^a-zA-Z0-9]',' ',z)"
   ]
  },
  {
   "cell_type": "code",
   "execution_count": 22,
   "metadata": {},
   "outputs": [
    {
     "data": {
      "text/plain": [
       "'    thanks for  lyft credit i can not     df  p p use cause they do not offer wheelchair vans in pdx  ante meridiem post meridiem   do not   do not  disapointed  getthanked   s'"
      ]
     },
     "execution_count": 22,
     "metadata": {},
     "output_type": "execute_result"
    }
   ],
   "source": [
    "z1 = re.sub(r'[^a-zA-Z]',' ',z)\n",
    "z1"
   ]
  },
  {
   "cell_type": "code",
   "execution_count": 23,
   "metadata": {},
   "outputs": [
    {
     "data": {
      "text/plain": [
       "'thanks for lyft credit can not df use cause they do not offer wheelchair vans in pdx ante meridiem post meridiem do not do not disapointed getthanked'"
      ]
     },
     "execution_count": 23,
     "metadata": {},
     "output_type": "execute_result"
    }
   ],
   "source": [
    "s = ' '.join([w for w in z1.split() if len(w)>1]).lower()\n",
    "s"
   ]
  },
  {
   "cell_type": "code",
   "execution_count": 24,
   "metadata": {},
   "outputs": [],
   "source": [
    "# Сделаем одну общую функцию на обработку текста\n",
    "def text_processing(text):\n",
    "    y = re.sub(r'@[\\w]*',' ',text)\n",
    "    y = y.lower()\n",
    "    y = y.split()\n",
    "    y = [apostrophe_dict[i] if i in apostrophe_dict else i for i in y]\n",
    "    y = [short_word_dict[i] if i in short_word_dict else i for i in y]\n",
    "    y = [' ' if i in emoticon_dict else i for i in y]\n",
    "    y = ' '.join(y)\n",
    "    y = re.sub(r'[^\\w\\s]',' ',y) #мне кажется данная строчка в свете следующей лишняя\n",
    "    y = re.sub(r'[^a-zA-Z0-9]',' ',y)\n",
    "    y = re.sub(r'[^a-zA-Z]',' ',y)\n",
    "    y = ' '.join([w for w in y.split() if len(w)>1])\n",
    "    return y"
   ]
  },
  {
   "cell_type": "code",
   "execution_count": 25,
   "metadata": {},
   "outputs": [
    {
     "name": "stdout",
     "output_type": "stream",
     "text": [
      "@user @user thanks for #lyft credit i can't 501 df2 p2p use cause they don't offer wheelchair vans in pdx. am pm :) don't :( don't   #disapointed #getthanked @pups's\n",
      "thanks for lyft credit can not df use cause they do not offer wheelchair vans in pdx ante meridiem post meridiem do not do not disapointed getthanked\n"
     ]
    }
   ],
   "source": [
    "s = text_processing(y)\n",
    "print(y)\n",
    "print (s)"
   ]
  },
  {
   "cell_type": "markdown",
   "metadata": {},
   "source": [
    "Поделим твиты на токены с помощью nltk.tokenize.word_tokenize, создав новый столбец 'tweet_token'.\n",
    "\n",
    "Удалим стоп-слова из токенов, используя nltk.corpus.stopwords. Создадим столбец 'tweet_token_filtered' без стоп-слов.\n",
    "\n",
    "Применим стемминг к токенам с помощью nltk.stem.PorterStemmer. Создадим столбец 'tweet_stemmed' после применения стемминга.\n",
    "\n",
    "Применим лемматизацию к токенам с помощью nltk.stem.wordnet.WordNetLemmatizer. Создадим столбец 'tweet_lemmatized' после применения лемматизации.\n",
    "\n",
    "Сохраним результат предобработки в pickle-файл."
   ]
  },
  {
   "cell_type": "code",
   "execution_count": 26,
   "metadata": {},
   "outputs": [],
   "source": [
    "import nltk\n",
    "from nltk.tokenize import word_tokenize, wordpunct_tokenize\n",
    "from nltk import tokenize as tknz\n"
   ]
  },
  {
   "cell_type": "code",
   "execution_count": 27,
   "metadata": {},
   "outputs": [
    {
     "data": {
      "text/plain": [
       "['thanks',\n",
       " 'for',\n",
       " 'lyft',\n",
       " 'credit',\n",
       " 'can',\n",
       " 'not',\n",
       " 'df',\n",
       " 'use',\n",
       " 'cause',\n",
       " 'they',\n",
       " 'do',\n",
       " 'not',\n",
       " 'offer',\n",
       " 'wheelchair',\n",
       " 'vans',\n",
       " 'in',\n",
       " 'pdx',\n",
       " 'ante',\n",
       " 'meridiem',\n",
       " 'post',\n",
       " 'meridiem',\n",
       " 'do',\n",
       " 'not',\n",
       " 'do',\n",
       " 'not',\n",
       " 'disapointed',\n",
       " 'getthanked']"
      ]
     },
     "execution_count": 27,
     "metadata": {},
     "output_type": "execute_result"
    }
   ],
   "source": [
    "tknz.word_tokenize(s)"
   ]
  },
  {
   "cell_type": "code",
   "execution_count": 28,
   "metadata": {},
   "outputs": [],
   "source": [
    "def t_token(text):\n",
    "    y = text_processing(text)\n",
    "    return tknz.word_tokenize(y)"
   ]
  },
  {
   "cell_type": "code",
   "execution_count": 29,
   "metadata": {},
   "outputs": [
    {
     "name": "stdout",
     "output_type": "stream",
     "text": [
      "Wall time: 4.09 s\n"
     ]
    },
    {
     "data": {
      "text/html": [
       "<div>\n",
       "<style scoped>\n",
       "    .dataframe tbody tr th:only-of-type {\n",
       "        vertical-align: middle;\n",
       "    }\n",
       "\n",
       "    .dataframe tbody tr th {\n",
       "        vertical-align: top;\n",
       "    }\n",
       "\n",
       "    .dataframe thead th {\n",
       "        text-align: right;\n",
       "    }\n",
       "</style>\n",
       "<table border=\"1\" class=\"dataframe\">\n",
       "  <thead>\n",
       "    <tr style=\"text-align: right;\">\n",
       "      <th></th>\n",
       "      <th>id</th>\n",
       "      <th>label</th>\n",
       "      <th>tweet</th>\n",
       "      <th>tweet_token</th>\n",
       "    </tr>\n",
       "  </thead>\n",
       "  <tbody>\n",
       "    <tr>\n",
       "      <th>0</th>\n",
       "      <td>1</td>\n",
       "      <td>0</td>\n",
       "      <td>@user when a father is dysfunctional and is so selfish he drags his kids into his dysfunction.   #run</td>\n",
       "      <td>[when, father, is, dysfunctional, and, is, so, selfish, he, drags, his, kids, into, his, dysfunction, run]</td>\n",
       "    </tr>\n",
       "    <tr>\n",
       "      <th>1</th>\n",
       "      <td>2</td>\n",
       "      <td>0</td>\n",
       "      <td>@user @user thanks for #lyft credit i can't use cause they don't offer wheelchair vans in pdx.    #disapointed #getthanked</td>\n",
       "      <td>[thanks, for, lyft, credit, can, not, use, cause, they, do, not, offer, wheelchair, vans, in, pdx, disapointed, getthanked]</td>\n",
       "    </tr>\n",
       "    <tr>\n",
       "      <th>2</th>\n",
       "      <td>3</td>\n",
       "      <td>0</td>\n",
       "      <td>bihday your majesty</td>\n",
       "      <td>[bihday, your, majesty]</td>\n",
       "    </tr>\n",
       "    <tr>\n",
       "      <th>3</th>\n",
       "      <td>4</td>\n",
       "      <td>0</td>\n",
       "      <td>#model   i love u take with u all the time in urð±!!! ðððð",
       "ð¦ð¦ð¦</td>\n",
       "      <td>[model, love, take, with, all, the, time, in, ur]</td>\n",
       "    </tr>\n",
       "    <tr>\n",
       "      <th>4</th>\n",
       "      <td>5</td>\n",
       "      <td>0</td>\n",
       "      <td>factsguide: society now    #motivation</td>\n",
       "      <td>[factsguide, society, now, motivation]</td>\n",
       "    </tr>\n",
       "  </tbody>\n",
       "</table>\n",
       "</div>"
      ],
      "text/plain": [
       "   id  label                                                                                                                       tweet                                                                                                                  tweet_token\n",
       "0   1      0                       @user when a father is dysfunctional and is so selfish he drags his kids into his dysfunction.   #run                   [when, father, is, dysfunctional, and, is, so, selfish, he, drags, his, kids, into, his, dysfunction, run]\n",
       "1   2      0  @user @user thanks for #lyft credit i can't use cause they don't offer wheelchair vans in pdx.    #disapointed #getthanked  [thanks, for, lyft, credit, can, not, use, cause, they, do, not, offer, wheelchair, vans, in, pdx, disapointed, getthanked]\n",
       "2   3      0                                                                                                         bihday your majesty                                                                                                      [bihday, your, majesty]\n",
       "3   4      0                                      #model   i love u take with u all the time in urð±!!! ðððð\n",
       "ð¦ð¦ð¦                                                                              [model, love, take, with, all, the, time, in, ur]\n",
       "4   5      0                                                                                      factsguide: society now    #motivation                                                                                       [factsguide, society, now, motivation]"
      ]
     },
     "execution_count": 29,
     "metadata": {},
     "output_type": "execute_result"
    }
   ],
   "source": [
    "%%time\n",
    "data['tweet_token'] = data['tweet'].apply(t_token)\n",
    "data.head()"
   ]
  },
  {
   "cell_type": "code",
   "execution_count": 30,
   "metadata": {},
   "outputs": [
    {
     "name": "stderr",
     "output_type": "stream",
     "text": [
      "[nltk_data] Downloading package stopwords to\n",
      "[nltk_data]     C:\\Users\\karas\\AppData\\Roaming\\nltk_data...\n",
      "[nltk_data]   Package stopwords is already up-to-date!\n"
     ]
    }
   ],
   "source": [
    "import nltk\n",
    "nltk.download('stopwords')\n",
    "from nltk.corpus import stopwords"
   ]
  },
  {
   "cell_type": "code",
   "execution_count": 31,
   "metadata": {},
   "outputs": [],
   "source": [
    "stop_words = set(stopwords.words(\"english\"))"
   ]
  },
  {
   "cell_type": "code",
   "execution_count": 32,
   "metadata": {},
   "outputs": [
    {
     "name": "stdout",
     "output_type": "stream",
     "text": [
      "Wall time: 115 ms\n"
     ]
    },
    {
     "data": {
      "text/html": [
       "<div>\n",
       "<style scoped>\n",
       "    .dataframe tbody tr th:only-of-type {\n",
       "        vertical-align: middle;\n",
       "    }\n",
       "\n",
       "    .dataframe tbody tr th {\n",
       "        vertical-align: top;\n",
       "    }\n",
       "\n",
       "    .dataframe thead th {\n",
       "        text-align: right;\n",
       "    }\n",
       "</style>\n",
       "<table border=\"1\" class=\"dataframe\">\n",
       "  <thead>\n",
       "    <tr style=\"text-align: right;\">\n",
       "      <th></th>\n",
       "      <th>id</th>\n",
       "      <th>label</th>\n",
       "      <th>tweet</th>\n",
       "      <th>tweet_token</th>\n",
       "      <th>tweet_token_filtered</th>\n",
       "    </tr>\n",
       "  </thead>\n",
       "  <tbody>\n",
       "    <tr>\n",
       "      <th>0</th>\n",
       "      <td>1</td>\n",
       "      <td>0</td>\n",
       "      <td>@user when a father is dysfunctional and is so selfish he drags his kids into his dysfunction.   #run</td>\n",
       "      <td>[when, father, is, dysfunctional, and, is, so, selfish, he, drags, his, kids, into, his, dysfunction, run]</td>\n",
       "      <td>[father, dysfunctional, selfish, drags, kids, dysfunction, run]</td>\n",
       "    </tr>\n",
       "    <tr>\n",
       "      <th>1</th>\n",
       "      <td>2</td>\n",
       "      <td>0</td>\n",
       "      <td>@user @user thanks for #lyft credit i can't use cause they don't offer wheelchair vans in pdx.    #disapointed #getthanked</td>\n",
       "      <td>[thanks, for, lyft, credit, can, not, use, cause, they, do, not, offer, wheelchair, vans, in, pdx, disapointed, getthanked]</td>\n",
       "      <td>[thanks, lyft, credit, use, cause, offer, wheelchair, vans, pdx, disapointed, getthanked]</td>\n",
       "    </tr>\n",
       "    <tr>\n",
       "      <th>2</th>\n",
       "      <td>3</td>\n",
       "      <td>0</td>\n",
       "      <td>bihday your majesty</td>\n",
       "      <td>[bihday, your, majesty]</td>\n",
       "      <td>[bihday, majesty]</td>\n",
       "    </tr>\n",
       "    <tr>\n",
       "      <th>3</th>\n",
       "      <td>4</td>\n",
       "      <td>0</td>\n",
       "      <td>#model   i love u take with u all the time in urð±!!! ðððð",
       "ð¦ð¦ð¦</td>\n",
       "      <td>[model, love, take, with, all, the, time, in, ur]</td>\n",
       "      <td>[model, love, take, time, ur]</td>\n",
       "    </tr>\n",
       "    <tr>\n",
       "      <th>4</th>\n",
       "      <td>5</td>\n",
       "      <td>0</td>\n",
       "      <td>factsguide: society now    #motivation</td>\n",
       "      <td>[factsguide, society, now, motivation]</td>\n",
       "      <td>[factsguide, society, motivation]</td>\n",
       "    </tr>\n",
       "  </tbody>\n",
       "</table>\n",
       "</div>"
      ],
      "text/plain": [
       "   id  label                                                                                                                       tweet                                                                                                                  tweet_token                                                                       tweet_token_filtered\n",
       "0   1      0                       @user when a father is dysfunctional and is so selfish he drags his kids into his dysfunction.   #run                   [when, father, is, dysfunctional, and, is, so, selfish, he, drags, his, kids, into, his, dysfunction, run]                            [father, dysfunctional, selfish, drags, kids, dysfunction, run]\n",
       "1   2      0  @user @user thanks for #lyft credit i can't use cause they don't offer wheelchair vans in pdx.    #disapointed #getthanked  [thanks, for, lyft, credit, can, not, use, cause, they, do, not, offer, wheelchair, vans, in, pdx, disapointed, getthanked]  [thanks, lyft, credit, use, cause, offer, wheelchair, vans, pdx, disapointed, getthanked]\n",
       "2   3      0                                                                                                         bihday your majesty                                                                                                      [bihday, your, majesty]                                                                          [bihday, majesty]\n",
       "3   4      0                                      #model   i love u take with u all the time in urð±!!! ðððð\n",
       "ð¦ð¦ð¦                                                                              [model, love, take, with, all, the, time, in, ur]                                                              [model, love, take, time, ur]\n",
       "4   5      0                                                                                      factsguide: society now    #motivation                                                                                       [factsguide, society, now, motivation]                                                          [factsguide, society, motivation]"
      ]
     },
     "execution_count": 32,
     "metadata": {},
     "output_type": "execute_result"
    }
   ],
   "source": [
    "%%time\n",
    "data['tweet_token_filtered'] = data['tweet_token'].apply(lambda x:[word for word in x if not word in stop_words])\n",
    "data.head()"
   ]
  },
  {
   "cell_type": "code",
   "execution_count": 33,
   "metadata": {},
   "outputs": [
    {
     "name": "stderr",
     "output_type": "stream",
     "text": [
      "[nltk_data] Downloading package wordnet to\n",
      "[nltk_data]     C:\\Users\\karas\\AppData\\Roaming\\nltk_data...\n",
      "[nltk_data]   Package wordnet is already up-to-date!\n"
     ]
    }
   ],
   "source": [
    "from nltk.stem import PorterStemmer, WordNetLemmatizer\n",
    "nltk.download('wordnet')\n",
    "lemmatizer = WordNetLemmatizer()\n",
    "stemmer = PorterStemmer()"
   ]
  },
  {
   "cell_type": "code",
   "execution_count": 34,
   "metadata": {},
   "outputs": [
    {
     "name": "stdout",
     "output_type": "stream",
     "text": [
      "Wall time: 4.18 s\n"
     ]
    },
    {
     "data": {
      "text/html": [
       "<div>\n",
       "<style scoped>\n",
       "    .dataframe tbody tr th:only-of-type {\n",
       "        vertical-align: middle;\n",
       "    }\n",
       "\n",
       "    .dataframe tbody tr th {\n",
       "        vertical-align: top;\n",
       "    }\n",
       "\n",
       "    .dataframe thead th {\n",
       "        text-align: right;\n",
       "    }\n",
       "</style>\n",
       "<table border=\"1\" class=\"dataframe\">\n",
       "  <thead>\n",
       "    <tr style=\"text-align: right;\">\n",
       "      <th></th>\n",
       "      <th>id</th>\n",
       "      <th>label</th>\n",
       "      <th>tweet</th>\n",
       "      <th>tweet_token</th>\n",
       "      <th>tweet_token_filtered</th>\n",
       "      <th>tweet_stemmed</th>\n",
       "    </tr>\n",
       "  </thead>\n",
       "  <tbody>\n",
       "    <tr>\n",
       "      <th>0</th>\n",
       "      <td>1</td>\n",
       "      <td>0</td>\n",
       "      <td>@user when a father is dysfunctional and is so selfish he drags his kids into his dysfunction.   #run</td>\n",
       "      <td>[when, father, is, dysfunctional, and, is, so, selfish, he, drags, his, kids, into, his, dysfunction, run]</td>\n",
       "      <td>[father, dysfunctional, selfish, drags, kids, dysfunction, run]</td>\n",
       "      <td>[father, dysfunct, selfish, drag, kid, dysfunct, run]</td>\n",
       "    </tr>\n",
       "    <tr>\n",
       "      <th>1</th>\n",
       "      <td>2</td>\n",
       "      <td>0</td>\n",
       "      <td>@user @user thanks for #lyft credit i can't use cause they don't offer wheelchair vans in pdx.    #disapointed #getthanked</td>\n",
       "      <td>[thanks, for, lyft, credit, can, not, use, cause, they, do, not, offer, wheelchair, vans, in, pdx, disapointed, getthanked]</td>\n",
       "      <td>[thanks, lyft, credit, use, cause, offer, wheelchair, vans, pdx, disapointed, getthanked]</td>\n",
       "      <td>[thank, lyft, credit, use, caus, offer, wheelchair, van, pdx, disapoint, getthank]</td>\n",
       "    </tr>\n",
       "    <tr>\n",
       "      <th>2</th>\n",
       "      <td>3</td>\n",
       "      <td>0</td>\n",
       "      <td>bihday your majesty</td>\n",
       "      <td>[bihday, your, majesty]</td>\n",
       "      <td>[bihday, majesty]</td>\n",
       "      <td>[bihday, majesti]</td>\n",
       "    </tr>\n",
       "    <tr>\n",
       "      <th>3</th>\n",
       "      <td>4</td>\n",
       "      <td>0</td>\n",
       "      <td>#model   i love u take with u all the time in urð±!!! ðððð",
       "ð¦ð¦ð¦</td>\n",
       "      <td>[model, love, take, with, all, the, time, in, ur]</td>\n",
       "      <td>[model, love, take, time, ur]</td>\n",
       "      <td>[model, love, take, time, ur]</td>\n",
       "    </tr>\n",
       "    <tr>\n",
       "      <th>4</th>\n",
       "      <td>5</td>\n",
       "      <td>0</td>\n",
       "      <td>factsguide: society now    #motivation</td>\n",
       "      <td>[factsguide, society, now, motivation]</td>\n",
       "      <td>[factsguide, society, motivation]</td>\n",
       "      <td>[factsguid, societi, motiv]</td>\n",
       "    </tr>\n",
       "  </tbody>\n",
       "</table>\n",
       "</div>"
      ],
      "text/plain": [
       "   id  label                                                                                                                       tweet                                                                                                                  tweet_token                                                                       tweet_token_filtered                                                                       tweet_stemmed\n",
       "0   1      0                       @user when a father is dysfunctional and is so selfish he drags his kids into his dysfunction.   #run                   [when, father, is, dysfunctional, and, is, so, selfish, he, drags, his, kids, into, his, dysfunction, run]                            [father, dysfunctional, selfish, drags, kids, dysfunction, run]                               [father, dysfunct, selfish, drag, kid, dysfunct, run]\n",
       "1   2      0  @user @user thanks for #lyft credit i can't use cause they don't offer wheelchair vans in pdx.    #disapointed #getthanked  [thanks, for, lyft, credit, can, not, use, cause, they, do, not, offer, wheelchair, vans, in, pdx, disapointed, getthanked]  [thanks, lyft, credit, use, cause, offer, wheelchair, vans, pdx, disapointed, getthanked]  [thank, lyft, credit, use, caus, offer, wheelchair, van, pdx, disapoint, getthank]\n",
       "2   3      0                                                                                                         bihday your majesty                                                                                                      [bihday, your, majesty]                                                                          [bihday, majesty]                                                                   [bihday, majesti]\n",
       "3   4      0                                      #model   i love u take with u all the time in urð±!!! ðððð\n",
       "ð¦ð¦ð¦                                                                              [model, love, take, with, all, the, time, in, ur]                                                              [model, love, take, time, ur]                                                       [model, love, take, time, ur]\n",
       "4   5      0                                                                                      factsguide: society now    #motivation                                                                                       [factsguide, society, now, motivation]                                                          [factsguide, society, motivation]                                                         [factsguid, societi, motiv]"
      ]
     },
     "execution_count": 34,
     "metadata": {},
     "output_type": "execute_result"
    }
   ],
   "source": [
    "%%time\n",
    "data['tweet_stemmed'] = data['tweet_token_filtered'].apply(lambda x:[stemmer.stem(word) for word in x])\n",
    "data.head()"
   ]
  },
  {
   "cell_type": "code",
   "execution_count": 35,
   "metadata": {},
   "outputs": [
    {
     "name": "stdout",
     "output_type": "stream",
     "text": [
      "Wall time: 2.15 s\n"
     ]
    },
    {
     "data": {
      "text/html": [
       "<div>\n",
       "<style scoped>\n",
       "    .dataframe tbody tr th:only-of-type {\n",
       "        vertical-align: middle;\n",
       "    }\n",
       "\n",
       "    .dataframe tbody tr th {\n",
       "        vertical-align: top;\n",
       "    }\n",
       "\n",
       "    .dataframe thead th {\n",
       "        text-align: right;\n",
       "    }\n",
       "</style>\n",
       "<table border=\"1\" class=\"dataframe\">\n",
       "  <thead>\n",
       "    <tr style=\"text-align: right;\">\n",
       "      <th></th>\n",
       "      <th>id</th>\n",
       "      <th>label</th>\n",
       "      <th>tweet</th>\n",
       "      <th>tweet_token</th>\n",
       "      <th>tweet_token_filtered</th>\n",
       "      <th>tweet_stemmed</th>\n",
       "      <th>tweet_lemmatized</th>\n",
       "    </tr>\n",
       "  </thead>\n",
       "  <tbody>\n",
       "    <tr>\n",
       "      <th>0</th>\n",
       "      <td>1</td>\n",
       "      <td>0</td>\n",
       "      <td>@user when a father is dysfunctional and is so selfish he drags his kids into his dysfunction.   #run</td>\n",
       "      <td>[when, father, is, dysfunctional, and, is, so, selfish, he, drags, his, kids, into, his, dysfunction, run]</td>\n",
       "      <td>[father, dysfunctional, selfish, drags, kids, dysfunction, run]</td>\n",
       "      <td>[father, dysfunct, selfish, drag, kid, dysfunct, run]</td>\n",
       "      <td>[father, dysfunctional, selfish, drag, kid, dysfunction, run]</td>\n",
       "    </tr>\n",
       "    <tr>\n",
       "      <th>1</th>\n",
       "      <td>2</td>\n",
       "      <td>0</td>\n",
       "      <td>@user @user thanks for #lyft credit i can't use cause they don't offer wheelchair vans in pdx.    #disapointed #getthanked</td>\n",
       "      <td>[thanks, for, lyft, credit, can, not, use, cause, they, do, not, offer, wheelchair, vans, in, pdx, disapointed, getthanked]</td>\n",
       "      <td>[thanks, lyft, credit, use, cause, offer, wheelchair, vans, pdx, disapointed, getthanked]</td>\n",
       "      <td>[thank, lyft, credit, use, caus, offer, wheelchair, van, pdx, disapoint, getthank]</td>\n",
       "      <td>[thanks, lyft, credit, use, cause, offer, wheelchair, van, pdx, disapointed, getthanked]</td>\n",
       "    </tr>\n",
       "    <tr>\n",
       "      <th>2</th>\n",
       "      <td>3</td>\n",
       "      <td>0</td>\n",
       "      <td>bihday your majesty</td>\n",
       "      <td>[bihday, your, majesty]</td>\n",
       "      <td>[bihday, majesty]</td>\n",
       "      <td>[bihday, majesti]</td>\n",
       "      <td>[bihday, majesty]</td>\n",
       "    </tr>\n",
       "    <tr>\n",
       "      <th>3</th>\n",
       "      <td>4</td>\n",
       "      <td>0</td>\n",
       "      <td>#model   i love u take with u all the time in urð±!!! ðððð",
       "ð¦ð¦ð¦</td>\n",
       "      <td>[model, love, take, with, all, the, time, in, ur]</td>\n",
       "      <td>[model, love, take, time, ur]</td>\n",
       "      <td>[model, love, take, time, ur]</td>\n",
       "      <td>[model, love, take, time, ur]</td>\n",
       "    </tr>\n",
       "    <tr>\n",
       "      <th>4</th>\n",
       "      <td>5</td>\n",
       "      <td>0</td>\n",
       "      <td>factsguide: society now    #motivation</td>\n",
       "      <td>[factsguide, society, now, motivation]</td>\n",
       "      <td>[factsguide, society, motivation]</td>\n",
       "      <td>[factsguid, societi, motiv]</td>\n",
       "      <td>[factsguide, society, motivation]</td>\n",
       "    </tr>\n",
       "  </tbody>\n",
       "</table>\n",
       "</div>"
      ],
      "text/plain": [
       "   id  label                                                                                                                       tweet                                                                                                                  tweet_token                                                                       tweet_token_filtered                                                                       tweet_stemmed                                                                          tweet_lemmatized\n",
       "0   1      0                       @user when a father is dysfunctional and is so selfish he drags his kids into his dysfunction.   #run                   [when, father, is, dysfunctional, and, is, so, selfish, he, drags, his, kids, into, his, dysfunction, run]                            [father, dysfunctional, selfish, drags, kids, dysfunction, run]                               [father, dysfunct, selfish, drag, kid, dysfunct, run]                             [father, dysfunctional, selfish, drag, kid, dysfunction, run]\n",
       "1   2      0  @user @user thanks for #lyft credit i can't use cause they don't offer wheelchair vans in pdx.    #disapointed #getthanked  [thanks, for, lyft, credit, can, not, use, cause, they, do, not, offer, wheelchair, vans, in, pdx, disapointed, getthanked]  [thanks, lyft, credit, use, cause, offer, wheelchair, vans, pdx, disapointed, getthanked]  [thank, lyft, credit, use, caus, offer, wheelchair, van, pdx, disapoint, getthank]  [thanks, lyft, credit, use, cause, offer, wheelchair, van, pdx, disapointed, getthanked]\n",
       "2   3      0                                                                                                         bihday your majesty                                                                                                      [bihday, your, majesty]                                                                          [bihday, majesty]                                                                   [bihday, majesti]                                                                         [bihday, majesty]\n",
       "3   4      0                                      #model   i love u take with u all the time in urð±!!! ðððð\n",
       "ð¦ð¦ð¦                                                                              [model, love, take, with, all, the, time, in, ur]                                                              [model, love, take, time, ur]                                                       [model, love, take, time, ur]                                                             [model, love, take, time, ur]\n",
       "4   5      0                                                                                      factsguide: society now    #motivation                                                                                       [factsguide, society, now, motivation]                                                          [factsguide, society, motivation]                                                         [factsguid, societi, motiv]                                                         [factsguide, society, motivation]"
      ]
     },
     "execution_count": 35,
     "metadata": {},
     "output_type": "execute_result"
    }
   ],
   "source": [
    "%%time\n",
    "data['tweet_lemmatized'] = data['tweet_token_filtered'].apply(lambda x:[lemmatizer.lemmatize(word) for word in x])\n",
    "data.head()"
   ]
  },
  {
   "cell_type": "code",
   "execution_count": 36,
   "metadata": {},
   "outputs": [],
   "source": [
    "data.to_pickle('train_tweets.pickle')"
   ]
  },
  {
   "cell_type": "code",
   "execution_count": 37,
   "metadata": {},
   "outputs": [],
   "source": [
    "# df = pd.read_pickle('train_tweets.pickle')\n",
    "# df.head()"
   ]
  },
  {
   "cell_type": "markdown",
   "metadata": {},
   "source": [
    "аналогично сделаем с тестовыми данными"
   ]
  },
  {
   "cell_type": "code",
   "execution_count": 38,
   "metadata": {},
   "outputs": [
    {
     "data": {
      "text/html": [
       "<div>\n",
       "<style scoped>\n",
       "    .dataframe tbody tr th:only-of-type {\n",
       "        vertical-align: middle;\n",
       "    }\n",
       "\n",
       "    .dataframe tbody tr th {\n",
       "        vertical-align: top;\n",
       "    }\n",
       "\n",
       "    .dataframe thead th {\n",
       "        text-align: right;\n",
       "    }\n",
       "</style>\n",
       "<table border=\"1\" class=\"dataframe\">\n",
       "  <thead>\n",
       "    <tr style=\"text-align: right;\">\n",
       "      <th></th>\n",
       "      <th>id</th>\n",
       "      <th>tweet</th>\n",
       "    </tr>\n",
       "  </thead>\n",
       "  <tbody>\n",
       "    <tr>\n",
       "      <th>0</th>\n",
       "      <td>31963</td>\n",
       "      <td>#studiolife #aislife #requires #passion #dedication #willpower   to find #newmaterialsâ¦</td>\n",
       "    </tr>\n",
       "    <tr>\n",
       "      <th>1</th>\n",
       "      <td>31964</td>\n",
       "      <td>@user #white #supremacists want everyone to see the new â  #birdsâ #movie â and hereâs why</td>\n",
       "    </tr>\n",
       "    <tr>\n",
       "      <th>2</th>\n",
       "      <td>31965</td>\n",
       "      <td>safe ways to heal your #acne!!    #altwaystoheal #healthy   #healing!!</td>\n",
       "    </tr>\n",
       "    <tr>\n",
       "      <th>3</th>\n",
       "      <td>31966</td>\n",
       "      <td>is the hp and the cursed child book up for reservations already? if yes, where? if no, when? ððð   #harrypotter #pottermore #favorite</td>\n",
       "    </tr>\n",
       "    <tr>\n",
       "      <th>4</th>\n",
       "      <td>31967</td>\n",
       "      <td>3rd #bihday to my amazing, hilarious #nephew eli ahmir! uncle dave loves you and missesâ¦</td>\n",
       "    </tr>\n",
       "  </tbody>\n",
       "</table>\n",
       "</div>"
      ],
      "text/plain": [
       "      id                                                                                                                                           tweet\n",
       "0  31963                                                      #studiolife #aislife #requires #passion #dedication #willpower   to find #newmaterialsâ¦ \n",
       "1  31964                                            @user #white #supremacists want everyone to see the new â  #birdsâ #movie â and hereâs why  \n",
       "2  31965                                                                         safe ways to heal your #acne!!    #altwaystoheal #healthy   #healing!! \n",
       "3  31966  is the hp and the cursed child book up for reservations already? if yes, where? if no, when? ððð   #harrypotter #pottermore #favorite\n",
       "4  31967                                                     3rd #bihday to my amazing, hilarious #nephew eli ahmir! uncle dave loves you and missesâ¦ "
      ]
     },
     "execution_count": 38,
     "metadata": {},
     "output_type": "execute_result"
    }
   ],
   "source": [
    "dft = pd.read_csv('test_tweets.csv')\n",
    "dft.head(5)"
   ]
  },
  {
   "cell_type": "code",
   "execution_count": 39,
   "metadata": {},
   "outputs": [
    {
     "name": "stdout",
     "output_type": "stream",
     "text": [
      "Wall time: 5.04 s\n"
     ]
    },
    {
     "data": {
      "text/html": [
       "<div>\n",
       "<style scoped>\n",
       "    .dataframe tbody tr th:only-of-type {\n",
       "        vertical-align: middle;\n",
       "    }\n",
       "\n",
       "    .dataframe tbody tr th {\n",
       "        vertical-align: top;\n",
       "    }\n",
       "\n",
       "    .dataframe thead th {\n",
       "        text-align: right;\n",
       "    }\n",
       "</style>\n",
       "<table border=\"1\" class=\"dataframe\">\n",
       "  <thead>\n",
       "    <tr style=\"text-align: right;\">\n",
       "      <th></th>\n",
       "      <th>id</th>\n",
       "      <th>tweet</th>\n",
       "      <th>tweet_token</th>\n",
       "      <th>tweet_token_filtered</th>\n",
       "      <th>tweet_stemmed</th>\n",
       "      <th>tweet_lemmatized</th>\n",
       "    </tr>\n",
       "  </thead>\n",
       "  <tbody>\n",
       "    <tr>\n",
       "      <th>0</th>\n",
       "      <td>31963</td>\n",
       "      <td>#studiolife #aislife #requires #passion #dedication #willpower   to find #newmaterialsâ¦</td>\n",
       "      <td>[studiolife, aislife, requires, passion, dedication, willpower, to, find, newmaterials]</td>\n",
       "      <td>[studiolife, aislife, requires, passion, dedication, willpower, find, newmaterials]</td>\n",
       "      <td>[studiolif, aislif, requir, passion, dedic, willpow, find, newmateri]</td>\n",
       "      <td>[studiolife, aislife, requires, passion, dedication, willpower, find, newmaterials]</td>\n",
       "    </tr>\n",
       "    <tr>\n",
       "      <th>1</th>\n",
       "      <td>31964</td>\n",
       "      <td>@user #white #supremacists want everyone to see the new â  #birdsâ #movie â and hereâs why</td>\n",
       "      <td>[white, supremacists, want, everyone, to, see, the, new, birds, movie, and, here, why]</td>\n",
       "      <td>[white, supremacists, want, everyone, see, new, birds, movie]</td>\n",
       "      <td>[white, supremacist, want, everyon, see, new, bird, movi]</td>\n",
       "      <td>[white, supremacist, want, everyone, see, new, bird, movie]</td>\n",
       "    </tr>\n",
       "    <tr>\n",
       "      <th>2</th>\n",
       "      <td>31965</td>\n",
       "      <td>safe ways to heal your #acne!!    #altwaystoheal #healthy   #healing!!</td>\n",
       "      <td>[safe, ways, to, heal, your, acne, altwaystoheal, healthy, healing]</td>\n",
       "      <td>[safe, ways, heal, acne, altwaystoheal, healthy, healing]</td>\n",
       "      <td>[safe, way, heal, acn, altwaystoh, healthi, heal]</td>\n",
       "      <td>[safe, way, heal, acne, altwaystoheal, healthy, healing]</td>\n",
       "    </tr>\n",
       "    <tr>\n",
       "      <th>3</th>\n",
       "      <td>31966</td>\n",
       "      <td>is the hp and the cursed child book up for reservations already? if yes, where? if no, when? ððð   #harrypotter #pottermore #favorite</td>\n",
       "      <td>[is, the, hp, and, the, cursed, child, book, up, for, reservations, already, if, yes, where, if, no, when, harrypotter, pottermore, favorite]</td>\n",
       "      <td>[hp, cursed, child, book, reservations, already, yes, harrypotter, pottermore, favorite]</td>\n",
       "      <td>[hp, curs, child, book, reserv, alreadi, ye, harrypott, pottermor, favorit]</td>\n",
       "      <td>[hp, cursed, child, book, reservation, already, yes, harrypotter, pottermore, favorite]</td>\n",
       "    </tr>\n",
       "    <tr>\n",
       "      <th>4</th>\n",
       "      <td>31967</td>\n",
       "      <td>3rd #bihday to my amazing, hilarious #nephew eli ahmir! uncle dave loves you and missesâ¦</td>\n",
       "      <td>[rd, bihday, to, my, amazing, hilarious, nephew, eli, ahmir, uncle, dave, loves, you, and, misses]</td>\n",
       "      <td>[rd, bihday, amazing, hilarious, nephew, eli, ahmir, uncle, dave, loves, misses]</td>\n",
       "      <td>[rd, bihday, amaz, hilari, nephew, eli, ahmir, uncl, dave, love, miss]</td>\n",
       "      <td>[rd, bihday, amazing, hilarious, nephew, eli, ahmir, uncle, dave, love, miss]</td>\n",
       "    </tr>\n",
       "  </tbody>\n",
       "</table>\n",
       "</div>"
      ],
      "text/plain": [
       "      id                                                                                                                                           tweet                                                                                                                                    tweet_token                                                                      tweet_token_filtered                                                                tweet_stemmed                                                                         tweet_lemmatized\n",
       "0  31963                                                      #studiolife #aislife #requires #passion #dedication #willpower   to find #newmaterialsâ¦                                                         [studiolife, aislife, requires, passion, dedication, willpower, to, find, newmaterials]       [studiolife, aislife, requires, passion, dedication, willpower, find, newmaterials]        [studiolif, aislif, requir, passion, dedic, willpow, find, newmateri]      [studiolife, aislife, requires, passion, dedication, willpower, find, newmaterials]\n",
       "1  31964                                            @user #white #supremacists want everyone to see the new â  #birdsâ #movie â and hereâs why                                                           [white, supremacists, want, everyone, to, see, the, new, birds, movie, and, here, why]                             [white, supremacists, want, everyone, see, new, birds, movie]                    [white, supremacist, want, everyon, see, new, bird, movi]                              [white, supremacist, want, everyone, see, new, bird, movie]\n",
       "2  31965                                                                         safe ways to heal your #acne!!    #altwaystoheal #healthy   #healing!!                                                                             [safe, ways, to, heal, your, acne, altwaystoheal, healthy, healing]                                 [safe, ways, heal, acne, altwaystoheal, healthy, healing]                            [safe, way, heal, acn, altwaystoh, healthi, heal]                                 [safe, way, heal, acne, altwaystoheal, healthy, healing]\n",
       "3  31966  is the hp and the cursed child book up for reservations already? if yes, where? if no, when? ððð   #harrypotter #pottermore #favorite  [is, the, hp, and, the, cursed, child, book, up, for, reservations, already, if, yes, where, if, no, when, harrypotter, pottermore, favorite]  [hp, cursed, child, book, reservations, already, yes, harrypotter, pottermore, favorite]  [hp, curs, child, book, reserv, alreadi, ye, harrypott, pottermor, favorit]  [hp, cursed, child, book, reservation, already, yes, harrypotter, pottermore, favorite]\n",
       "4  31967                                                     3rd #bihday to my amazing, hilarious #nephew eli ahmir! uncle dave loves you and missesâ¦                                              [rd, bihday, to, my, amazing, hilarious, nephew, eli, ahmir, uncle, dave, loves, you, and, misses]          [rd, bihday, amazing, hilarious, nephew, eli, ahmir, uncle, dave, loves, misses]       [rd, bihday, amaz, hilari, nephew, eli, ahmir, uncl, dave, love, miss]            [rd, bihday, amazing, hilarious, nephew, eli, ahmir, uncle, dave, love, miss]"
      ]
     },
     "execution_count": 39,
     "metadata": {},
     "output_type": "execute_result"
    }
   ],
   "source": [
    "%%time\n",
    "dft['tweet_token'] = dft['tweet'].apply(t_token)\n",
    "dft['tweet_token_filtered'] = dft['tweet_token'].apply(lambda x:[word for word in x if not word in stop_words])\n",
    "dft['tweet_stemmed'] = dft['tweet_token_filtered'].apply(lambda x:[stemmer.stem(word) for word in x])\n",
    "dft['tweet_lemmatized'] = dft['tweet_token_filtered'].apply(lambda x:[lemmatizer.lemmatize(word) for word in x])\n",
    "dft.head()"
   ]
  },
  {
   "cell_type": "code",
   "execution_count": 40,
   "metadata": {},
   "outputs": [],
   "source": [
    "dft.to_pickle('test_tweets.pickle')"
   ]
  },
  {
   "cell_type": "code",
   "execution_count": 41,
   "metadata": {},
   "outputs": [],
   "source": [
    "# df = pd.read_pickle('test_tweets.pickle')\n",
    "# df.head()"
   ]
  }
 ],
 "metadata": {
  "kernelspec": {
   "display_name": "Python 3",
   "language": "python",
   "name": "python3"
  },
  "language_info": {
   "codemirror_mode": {
    "name": "ipython",
    "version": 3
   },
   "file_extension": ".py",
   "mimetype": "text/x-python",
   "name": "python",
   "nbconvert_exporter": "python",
   "pygments_lexer": "ipython3",
   "version": "3.7.3"
  }
 },
 "nbformat": 4,
 "nbformat_minor": 2
}
